{
 "cells": [
  {
   "cell_type": "code",
   "execution_count": 2,
   "metadata": {},
   "outputs": [],
   "source": [
    "import pandas as pd\n",
    "import xgboost as xgb\n",
    "import matplotlib.pyplot as plt \n",
    "import numpy as np\n",
    "from xgboost import plot_importance\n",
    "from sklearn.model_selection import train_test_split"
   ]
  },
  {
   "cell_type": "code",
   "execution_count": 3,
   "metadata": {},
   "outputs": [
    {
     "data": {
      "text/html": [
       "<div>\n",
       "<style scoped>\n",
       "    .dataframe tbody tr th:only-of-type {\n",
       "        vertical-align: middle;\n",
       "    }\n",
       "\n",
       "    .dataframe tbody tr th {\n",
       "        vertical-align: top;\n",
       "    }\n",
       "\n",
       "    .dataframe thead th {\n",
       "        text-align: right;\n",
       "    }\n",
       "</style>\n",
       "<table border=\"1\" class=\"dataframe\">\n",
       "  <thead>\n",
       "    <tr style=\"text-align: right;\">\n",
       "      <th></th>\n",
       "      <th>daily_processing_count</th>\n",
       "      <th>enter_COD</th>\n",
       "      <th>enter_PH</th>\n",
       "      <th>enter_NH3N</th>\n",
       "      <th>enter_TN</th>\n",
       "      <th>enter_TP</th>\n",
       "      <th>MLSS</th>\n",
       "      <th>DO</th>\n",
       "      <th>out_COD</th>\n",
       "      <th>out_PH</th>\n",
       "      <th>out_NH3N</th>\n",
       "      <th>out_TN</th>\n",
       "      <th>out_TP</th>\n",
       "      <th>other</th>\n",
       "    </tr>\n",
       "  </thead>\n",
       "  <tbody>\n",
       "    <tr>\n",
       "      <th>0</th>\n",
       "      <td>1186.0</td>\n",
       "      <td>53.66</td>\n",
       "      <td>7.52</td>\n",
       "      <td>40.85</td>\n",
       "      <td>13.26</td>\n",
       "      <td>2.31</td>\n",
       "      <td>1756.0</td>\n",
       "      <td>5.19</td>\n",
       "      <td>10.38</td>\n",
       "      <td>7.14</td>\n",
       "      <td>0.040</td>\n",
       "      <td>5.41</td>\n",
       "      <td>0.34</td>\n",
       "      <td>NaN</td>\n",
       "    </tr>\n",
       "    <tr>\n",
       "      <th>1</th>\n",
       "      <td>2615.0</td>\n",
       "      <td>56.24</td>\n",
       "      <td>7.45</td>\n",
       "      <td>18.44</td>\n",
       "      <td>17.65</td>\n",
       "      <td>2.91</td>\n",
       "      <td>1800.0</td>\n",
       "      <td>5.23</td>\n",
       "      <td>18.03</td>\n",
       "      <td>6.96</td>\n",
       "      <td>0.054</td>\n",
       "      <td>8.14</td>\n",
       "      <td>0.26</td>\n",
       "      <td>NaN</td>\n",
       "    </tr>\n",
       "    <tr>\n",
       "      <th>2</th>\n",
       "      <td>2365.0</td>\n",
       "      <td>44.30</td>\n",
       "      <td>7.62</td>\n",
       "      <td>9.36</td>\n",
       "      <td>20.30</td>\n",
       "      <td>2.49</td>\n",
       "      <td>1622.0</td>\n",
       "      <td>4.36</td>\n",
       "      <td>19.97</td>\n",
       "      <td>7.14</td>\n",
       "      <td>0.120</td>\n",
       "      <td>10.61</td>\n",
       "      <td>0.32</td>\n",
       "      <td>NaN</td>\n",
       "    </tr>\n",
       "    <tr>\n",
       "      <th>3</th>\n",
       "      <td>1082.0</td>\n",
       "      <td>33.36</td>\n",
       "      <td>7.66</td>\n",
       "      <td>17.62</td>\n",
       "      <td>19.55</td>\n",
       "      <td>2.26</td>\n",
       "      <td>1820.0</td>\n",
       "      <td>4.70</td>\n",
       "      <td>5.36</td>\n",
       "      <td>7.00</td>\n",
       "      <td>0.040</td>\n",
       "      <td>9.97</td>\n",
       "      <td>0.23</td>\n",
       "      <td>NaN</td>\n",
       "    </tr>\n",
       "    <tr>\n",
       "      <th>4</th>\n",
       "      <td>2473.0</td>\n",
       "      <td>40.16</td>\n",
       "      <td>7.45</td>\n",
       "      <td>29.29</td>\n",
       "      <td>21.64</td>\n",
       "      <td>3.01</td>\n",
       "      <td>2063.0</td>\n",
       "      <td>5.11</td>\n",
       "      <td>17.12</td>\n",
       "      <td>7.14</td>\n",
       "      <td>0.040</td>\n",
       "      <td>10.76</td>\n",
       "      <td>0.38</td>\n",
       "      <td>NaN</td>\n",
       "    </tr>\n",
       "  </tbody>\n",
       "</table>\n",
       "</div>"
      ],
      "text/plain": [
       "   daily_processing_count  enter_COD  enter_PH  enter_NH3N  enter_TN  \\\n",
       "0                  1186.0      53.66      7.52       40.85     13.26   \n",
       "1                  2615.0      56.24      7.45       18.44     17.65   \n",
       "2                  2365.0      44.30      7.62        9.36     20.30   \n",
       "3                  1082.0      33.36      7.66       17.62     19.55   \n",
       "4                  2473.0      40.16      7.45       29.29     21.64   \n",
       "\n",
       "   enter_TP    MLSS    DO  out_COD  out_PH  out_NH3N  out_TN  out_TP  other  \n",
       "0      2.31  1756.0  5.19    10.38    7.14     0.040    5.41    0.34    NaN  \n",
       "1      2.91  1800.0  5.23    18.03    6.96     0.054    8.14    0.26    NaN  \n",
       "2      2.49  1622.0  4.36    19.97    7.14     0.120   10.61    0.32    NaN  \n",
       "3      2.26  1820.0  4.70     5.36    7.00     0.040    9.97    0.23    NaN  \n",
       "4      3.01  2063.0  5.11    17.12    7.14     0.040   10.76    0.38    NaN  "
      ]
     },
     "execution_count": 3,
     "metadata": {},
     "output_type": "execute_result"
    }
   ],
   "source": [
    "data = pd.read_csv(\"./final_data/final_data.csv\")\n",
    "data.head(5)"
   ]
  },
  {
   "cell_type": "code",
   "execution_count": 4,
   "metadata": {},
   "outputs": [
    {
     "data": {
      "text/plain": [
       "Index(['daily_processing_count', 'enter_COD', 'enter_PH', 'enter_NH3N',\n",
       "       'enter_TN', 'enter_TP', 'MLSS', 'DO', 'out_COD', 'out_PH', 'out_NH3N',\n",
       "       'out_TN', 'out_TP', 'other'],\n",
       "      dtype='object')"
      ]
     },
     "execution_count": 4,
     "metadata": {},
     "output_type": "execute_result"
    }
   ],
   "source": [
    "data.columns"
   ]
  },
  {
   "cell_type": "code",
   "execution_count": 5,
   "metadata": {},
   "outputs": [],
   "source": [
    "x = data[['daily_processing_count', 'enter_COD', 'enter_PH', 'enter_NH3N',\n",
    "       'enter_TN', 'enter_TP', 'MLSS', 'DO']].values\n",
    "y = data[['out_COD']].values"
   ]
  },
  {
   "cell_type": "code",
   "execution_count": 6,
   "metadata": {},
   "outputs": [],
   "source": [
    "x_train, x_test, y_train, y_test = train_test_split(x, y, test_size=0.2, random_state=0)"
   ]
  },
  {
   "cell_type": "code",
   "execution_count": 7,
   "metadata": {},
   "outputs": [
    {
     "name": "stdout",
     "output_type": "stream",
     "text": [
      "Collecting xgboost\n",
      "  Using cached xgboost-1.6.1-py3-none-win_amd64.whl (125.4 MB)\n",
      "Requirement already satisfied: scipy in d:\\windows\\apps\\anaconda\\envs\\py3\\lib\\site-packages (from xgboost) (1.7.3)\n",
      "Requirement already satisfied: numpy in d:\\windows\\apps\\anaconda\\envs\\py3\\lib\\site-packages (from xgboost) (1.21.6)\n",
      "Installing collected packages: xgboost\n",
      "Successfully installed xgboost-1.6.1\n"
     ]
    }
   ],
   "source": [
    "import sklearn\n",
    "!pip install xgboost\n",
    "model = xgb.XGBRegressor(max_depth = 5, objective='reg:gamma')"
   ]
  },
  {
   "cell_type": "code",
   "execution_count": 8,
   "metadata": {},
   "outputs": [
    {
     "data": {
      "text/plain": [
       "XGBRegressor(base_score=0.5, booster='gbtree', colsample_bylevel=1,\n",
       "             colsample_bynode=1, colsample_bytree=1, enable_categorical=False,\n",
       "             gamma=0, gpu_id=-1, importance_type=None,\n",
       "             interaction_constraints='', learning_rate=0.300000012,\n",
       "             max_delta_step=0, max_depth=5, min_child_weight=1, missing=nan,\n",
       "             monotone_constraints='()', n_estimators=100, n_jobs=16,\n",
       "             num_parallel_tree=1, objective='reg:gamma', predictor='auto',\n",
       "             random_state=0, reg_alpha=0, reg_lambda=1, scale_pos_weight=None,\n",
       "             subsample=1, tree_method='exact', validate_parameters=1,\n",
       "             verbosity=None)"
      ]
     },
     "execution_count": 8,
     "metadata": {},
     "output_type": "execute_result"
    }
   ],
   "source": [
    "model.fit(x_train, y_train)"
   ]
  },
  {
   "cell_type": "code",
   "execution_count": 10,
   "metadata": {},
   "outputs": [
    {
     "data": {
      "text/plain": [
       "array([ 5.917603 ,  5.1578674,  5.4340544,  5.4761705,  7.0268407,\n",
       "       19.264755 , 21.067753 ,  3.7339146, 32.515545 ,  9.757731 ,\n",
       "        9.718775 ,  9.639502 ,  5.8367705, 33.15552  , 18.762894 ,\n",
       "        9.781024 , 16.679193 ,  2.624099 ,  5.38074  ,  3.5410671,\n",
       "       12.099857 ,  2.4066217,  4.0236936,  6.567361 ,  5.7447567,\n",
       "        4.765875 , 26.587992 ,  9.04591  ,  4.6854215,  3.4559784,\n",
       "        6.4253917, 14.9242935,  4.785417 , 11.355027 , 11.154022 ,\n",
       "        6.5599737,  2.9951303, 12.389977 ,  9.900992 ,  9.913879 ,\n",
       "        6.8617277, 33.043392 ,  3.9430223, 29.28923  ,  6.8648553,\n",
       "        6.2551756,  7.981117 ,  4.843913 ,  4.108954 , 10.054936 ,\n",
       "       25.372145 ,  2.9502003,  6.234456 , 23.14826  ,  4.77314  ,\n",
       "       11.400206 , 28.452692 ,  7.7318225, 10.755633 ,  5.2607913,\n",
       "       13.898188 , 29.434252 , 14.608248 ,  4.461181 ,  5.5050473,\n",
       "       14.2405205,  5.496492 ,  2.2845423,  3.7878585,  6.58198  ,\n",
       "        9.053553 ,  4.4046865, 12.733012 ,  4.5948234,  4.291177 ,\n",
       "        9.002703 , 11.025724 , 11.305948 , 15.818026 ,  2.9472911,\n",
       "       10.399436 , 13.369743 , 14.62775  ,  8.577104 , 16.12153  ,\n",
       "       10.891174 , 11.274172 , 16.713196 ,  4.634197 , 38.76397  ,\n",
       "        5.4247746,  7.759257 ,  4.993678 ,  5.485431 , 37.176395 ,\n",
       "        4.5770164, 14.524166 ,  8.51025  , 15.677283 , 28.371208 ,\n",
       "        8.67667  , 13.641047 ,  6.5963044, 30.149483 , 32.865604 ,\n",
       "        3.459401 , 12.246503 ,  7.3381624,  5.4192324, 11.16327  ,\n",
       "       14.029492 ], dtype=float32)"
      ]
     },
     "execution_count": 10,
     "metadata": {},
     "output_type": "execute_result"
    }
   ],
   "source": [
    "ans = model.predict(x_test)\n",
    "ans"
   ]
  },
  {
   "cell_type": "code",
   "execution_count": 12,
   "metadata": {},
   "outputs": [],
   "source": [
    "from sklearn.metrics import mean_squared_error, r2_score"
   ]
  },
  {
   "cell_type": "code",
   "execution_count": 13,
   "metadata": {},
   "outputs": [
    {
     "data": {
      "text/plain": [
       "51.27908667308813"
      ]
     },
     "execution_count": 13,
     "metadata": {},
     "output_type": "execute_result"
    }
   ],
   "source": [
    "mean_squared_error(ans, y_test)"
   ]
  },
  {
   "cell_type": "code",
   "execution_count": 19,
   "metadata": {},
   "outputs": [
    {
     "name": "stdout",
     "output_type": "stream",
     "text": [
      "rmse= 7.160941744846702\n"
     ]
    }
   ],
   "source": [
    "print(\"rmse=\", np.sqrt(mean_squared_error(ans, y_test)))"
   ]
  },
  {
   "cell_type": "code",
   "execution_count": 18,
   "metadata": {},
   "outputs": [
    {
     "name": "stdout",
     "output_type": "stream",
     "text": [
      "r2_score= 0.5682539252632809\n"
     ]
    }
   ],
   "source": [
    "print(\"r2_score=\", r2_score(y_test, ans))"
   ]
  },
  {
   "cell_type": "code",
   "execution_count": 17,
   "metadata": {},
   "outputs": [
    {
     "data": {
      "text/plain": [
       "[<matplotlib.lines.Line2D at 0x1b28b400688>]"
      ]
     },
     "execution_count": 17,
     "metadata": {},
     "output_type": "execute_result"
    },
    {
     "data": {
      "image/png": "[encoded data removed]",
      "text/plain": [
       "<Figure size 432x288 with 1 Axes>"
      ]
     },
     "metadata": {
      "needs_background": "light"
     },
     "output_type": "display_data"
    }
   ],
   "source": [
    "plt.plot(ans)\n",
    "plt.plot(y_test)"
   ]
  },
  {
   "cell_type": "code",
   "execution_count": null,
   "metadata": {},
   "outputs": [],
   "source": []
  }
 ],
 "metadata": {
  "kernelspec": {
   "display_name": "Python 3.7.13 ('py3')",
   "language": "python",
   "name": "python3"
  },
  "language_info": {
   "codemirror_mode": {
    "name": "ipython",
    "version": 3
   },
   "file_extension": ".py",
   "mimetype": "text/x-python",
   "name": "python",
   "nbconvert_exporter": "python",
   "pygments_lexer": "ipython3",
   "version": "3.7.13"
  },
  "orig_nbformat": 4,
  "vscode": {
   "interpreter": {
    "hash": "33c4bfe72321c15ddf5defba3800496ab13880ffe91055727fd8f55d99c761fa"
   }
  }
 },
 "nbformat": 4,
 "nbformat_minor": 2
}
